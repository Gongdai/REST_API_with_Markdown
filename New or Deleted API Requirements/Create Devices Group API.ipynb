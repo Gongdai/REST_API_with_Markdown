{
 "cells": [
  {
   "cell_type": "markdown",
   "metadata": {},
   "source": [
    "# Create Devices Group API"
   ]
  },
  {
   "cell_type": "markdown",
   "metadata": {},
   "source": [
    "## ***POST*** /V1/CMDB/Devices/DeviceGroup/\n",
    "Call this API to create a device group within the group name and devices list provided by user.\n",
    "\n",
    "## Detail Information\n",
    "\n",
    "> **Title** : Create Device Group API<br>\n",
    "\n",
    "> **Version** : 03/19/2019.\n",
    "\n",
    "> **API Server URL** : http(s)://IP address of NetBrain Web API Server/ServicesAPI/API/V1/CMDB/Devices/DeviceGroup/\n",
    "\n",
    "> **Authentication** : \n",
    "\n",
    "|**Type**|**In**|**Name**|\n",
    "|------|------|------|\n",
    "|<img width=100/>|<img width=100/>|<img width=500/>|\n",
    "|Bearer Authentication| Headers | Authentication token | \n",
    "\n",
    "## Request body(****required***)\n",
    "\n",
    "|**Name**|**Type**|**Description**|\n",
    "|------|------|------|\n",
    "|<img width=100/>|<img width=100/>|<img width=500/>|\n",
    "| groupName* | string  | The name of one device group which user want to create. |\n",
    "| description | string  | A brief description of this device group. |\n",
    "| IpOrHostName | list  | A list of device Ip or hostname |\n",
    "\n",
    "***Example:***"
   ]
  },
  {
   "cell_type": "code",
   "execution_count": null,
   "metadata": {},
   "outputs": [],
   "source": [
    "{\n",
    "    \"groupName\" : \"groupName\",\n",
    "    \"description\" : \"description\",\n",
    "    \"deviceList\" : [\n",
    "                    \"R20\" # or \"mgmtIP\": \"123.20.20.20\"\n",
    "                    ,\"R19\" # or ...\n",
    "                    ,\"R3\" # or ...\n",
    "                    ,\"R18\" # or ...\n",
    "                    ,\"R17\" # or ... \n",
    "                   ]\n",
    "}"
   ]
  },
  {
   "cell_type": "markdown",
   "metadata": {},
   "source": [
    "## Response\n",
    "\n",
    "|**Name**|**Type**|**Description**|\n",
    "|------|------|------|\n",
    "|<img width=100/>|<img width=100/>|<img width=500/>|\n",
    "|statusCode| integer | Code issued by NetBrain server indicating the execution result.  |\n",
    "|statusDescription| string | The explanation of the status code. |\n",
    "|Message| string | The explanation of the device group creation status. |\n",
    "\n",
    "***Example:***"
   ]
  },
  {
   "cell_type": "code",
   "execution_count": null,
   "metadata": {},
   "outputs": [],
   "source": [
    "{\n",
    "    \"Message\" : \"Device Group <Name of device group> has been created successfully!\", # or \"Failed and failed reason\"\n",
    "    \"statusCode\" : 790200,\n",
    "    \"statusDescription\" : \"Success.\"\n",
    "}"
   ]
  }
 ],
 "metadata": {
  "kernelspec": {
   "display_name": "Python 3",
   "language": "python",
   "name": "python3"
  },
  "language_info": {
   "codemirror_mode": {
    "name": "ipython",
    "version": 3
   },
   "file_extension": ".py",
   "mimetype": "text/x-python",
   "name": "python",
   "nbconvert_exporter": "python",
   "pygments_lexer": "ipython3",
   "version": "3.7.1"
  }
 },
 "nbformat": 4,
 "nbformat_minor": 2
}
