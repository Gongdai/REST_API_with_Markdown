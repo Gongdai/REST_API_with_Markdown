{
 "cells": [
  {
   "cell_type": "markdown",
   "metadata": {},
   "source": [
    "## ***PUT*** / acknowledge event alert\n",
    "## ***PUT*** / close event alert\n",
    "## ***DELETE*** / delete event alert"
   ]
  },
  {
   "cell_type": "markdown",
   "metadata": {},
   "source": [
    "## Detail Information\n",
    "\n",
    "> **Title** : Get Event Console API<br>\n",
    "\n",
    "> **Version** : 04/03/2019.\n",
    "\n",
    "> **API Server URL** : http(s)://IP address of NetBrain Web API Server/...\n",
    "\n",
    "> **Authentication** : \n",
    "\n",
    "|**Type**|**In**|**Name**|\n",
    "|------|------|------|\n",
    "|<img width=100/>|<img width=100/>|<img width=500/>|\n",
    "|Bearer Authentication| Headers | Authentication token | \n",
    "\n",
    "## Request Body(****required***)\n",
    "\n",
    "|**Name**|**Type**|**Description**|\n",
    "|------|------|------|\n",
    "|<img width=100/>|<img width=100/>|<img width=500/>|\n",
    "|eventID* | list of string  | A string list include the taskIDs of all events which customer want to acknowledged. |\n",
    "\n",
    "***Example:***"
   ]
  },
  {
   "cell_type": "code",
   "execution_count": null,
   "metadata": {},
   "outputs": [],
   "source": [
    "body = {\n",
    "    \"eventIDs\" : [\n",
    "        {\"eventID\" : \"4d409565-eb4d-817e-8180-c24c25d309c1\"},\n",
    "        {\"eventID\" : \"4d409565-eb4d-817e-8180-............\"},\n",
    "        .\n",
    "        .\n",
    "        .\n",
    "    ]\n",
    "}\n",
    "\n",
    "# For DELETE function this is a data form not a body."
   ]
  },
  {
   "cell_type": "markdown",
   "metadata": {},
   "source": [
    "## Response\n",
    "\n",
    "|**Name**|**Type**|**Description**|\n",
    "|------|------|------|\n",
    "|message | string |decribe the acknowledge status.|\n",
    "|statusCode| integer | Code issued by NetBrain server indicating the execution result.  |\n",
    "|statusDescription| string | The explanation of the status code. |\n",
    "\n",
    "***Example:***"
   ]
  },
  {
   "cell_type": "code",
   "execution_count": null,
   "metadata": {},
   "outputs": [],
   "source": [
    "# acknowledged successfully.\n",
    "{\n",
    "    \"message\":\"XXX have been acknowledged/closed/delete successfully!\",\n",
    "    \"statusCode\" : 790200,\n",
    "    \"statusDescription\": \"Success.\"\n",
    "}\n",
    "\n",
    "# acknowledged failed.\n",
    "{\n",
    "    \"message\":\"[XXXXXXXX-XXXX-XXXX-XXXX-XXXXXXXXXXXX, ...] acknowledge/closed/delete failed! Reason:...\",\n",
    "    \"statusCode\" : \"...\",\n",
    "    \"statusDescription\": \"...\"\n",
    "}"
   ]
  }
 ],
 "metadata": {
  "kernelspec": {
   "display_name": "Python 3",
   "language": "python",
   "name": "python3"
  },
  "language_info": {
   "codemirror_mode": {
    "name": "ipython",
    "version": 3
   },
   "file_extension": ".py",
   "mimetype": "text/x-python",
   "name": "python",
   "nbconvert_exporter": "python",
   "pygments_lexer": "ipython3",
   "version": "3.7.1"
  }
 },
 "nbformat": 4,
 "nbformat_minor": 2
}
