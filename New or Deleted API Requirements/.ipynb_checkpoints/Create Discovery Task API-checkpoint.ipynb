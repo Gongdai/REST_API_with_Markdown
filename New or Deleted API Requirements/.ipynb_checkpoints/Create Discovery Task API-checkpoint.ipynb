{
 "cells": [
  {
   "cell_type": "markdown",
   "metadata": {},
   "source": [
    "# Create Discovery Task API"
   ]
  },
  {
   "cell_type": "markdown",
   "metadata": {},
   "source": [
    "## ***POST*** /V1/CMDB/Discovery/Tasks\n",
    "This API call is used to add a discovery task to a domain. \n",
    "\n",
    "Note that, as the key, task name should be unique system wide. \n",
    "\n",
    "## Detail Information\n",
    "\n",
    "> **Title** : Add Discovery Task API<br>\n",
    "\n",
    "> **Version** : 03/19/2019.\n",
    "\n",
    "> **API Server URL** : http(s)://IP address of NetBrain Web API Server/ServicesAPI/API/V1/CMDB/Discovery/Tasks\t\n",
    "\n",
    "> **Authentication** : \n",
    "\n",
    ">|**Type**|**In**|**Name**|\n",
    "|------|------|------|\n",
    "|<img width=100/>|<img width=100/>|<img width=500/>|\n",
    "|Bearer Authentication| Headers | Authentication token | \n",
    "\n",
    "## Request body(****required***)\n",
    "\n",
    ">|**Name**|**Type**|**Description**|\n",
    "|------|------|------|\n",
    "|<img width=100/>|<img width=100/>|<img width=500/>|\n",
    "|taskName* | string  | The name of the task.  |\n",
    "|description | string  | The description of the task. This field is optional.  |\n",
    "|startDate* | string  | The date when the task starts to run. The standard time format is required, for example, '2017-07-13', '2017/07/13'. This field is optional. Current date will be used by default.  |\n",
    "|schedule* | object  | The schedule to run the task. The following sub parameters are included in this object: <br>▪ frequency* (string) - the frequency to run the task. This field is required and includes ”once”, “hourly”,” daily”, “weekly” and “monthly” options.<br>▪ interval(string) - the interval to run the task (optional). This field is only valid for “hourly”,” daily”, and “weekly” options and the default value is 1, such as every 1 hour, 1 week.<br>▪ startTime* (string) - the time to run the task. This field is required and startTime should be in format: [\"HH:mm:ss\"], if you put date time format such as \"2018/04/04 19:20:20 \", \"19:20:20\" will be used and the date part \"2018/04/04\" will be ignored.<br> **Note:** Set the time according to your IIS server time zone since the time zone of your ISS server rather than your physical time zone is adopted by the benchmark task.<br>▪ weekday(integer) - the day of the week to run the task. This field is optional and only valid when the frequency is weekly.  0 stands for Sunday, 6 for Saturday and 1-5 for Monday to Friday respectively.<br>▪ dayOfMonth(integer) - which day of a month to run the task. This field is optional and only valid when the frequency is monthly. The default is 1.<br>▪ Months(integer) - which month to run the task. This field is optional and only valid when the frequency is monthly. The default is all 12 months.|\n",
    "|Network Setting* | string  | ...............................  |\n",
    "|Discovery Seed | list of string  | a list of devices ips |\n",
    "\n",
    "Simmilar with create a benchmark task.\n",
    "> ### ***Example***"
   ]
  },
  {
   "cell_type": "code",
   "execution_count": null,
   "metadata": {},
   "outputs": [],
   "source": [
    "body = {\n",
    "        \"taskName\":taskName, #The name of the task.\n",
    "        \"startDate\":startDate, #The date when the task starts to run. The standard time format is required, for example, '2017-07-13', '2017/07/13'.\n",
    "        \"schedule\":{\n",
    "            \"frequency\":frequency, #The frequency to run the task. This field is required and includes ”once”, “hourly”,” daily”, “weekly” and “monthly” options.\n",
    "            \"startTime\":[startTime] #The time to run the task. This field is required and startTime should be in format: [\"HH:mm:ss\"], if you put date time format such as \"2018/04/04 19:20:20 \", \"19:20:20\" will be used and the date part \"2018/04/04\" will be ignored.\n",
    "            },\n",
    "        \"deviceList\" : [\n",
    "                    \"R20\" # or \"mgmtIP\": \"123.20.20.20\"\n",
    "                    ,\"R19\" # or ...\n",
    "                    ,\"R3\" # or ...\n",
    "                    ,\"R18\" # or ...\n",
    "                    ,\"R17\" # or ... \n",
    "                   ]\n",
    "        }"
   ]
  },
  {
   "cell_type": "markdown",
   "metadata": {},
   "source": [
    "## Response\n",
    "\n",
    "|**Name**|**Type**|**Description**|\n",
    "|------|------|------|\n",
    "|<img width=100/>|<img width=100/>|<img width=500/>|\n",
    "|Message| string | Discovery task < Name > has been created Successfully OR Falied with reasons.| \n",
    "|statusCode| integer | Code issued by NetBrain server indicating the execution result.  |\n",
    "|statusDescription| string | The explanation of the status code. |\n",
    "\n",
    "> ***Example***"
   ]
  },
  {
   "cell_type": "code",
   "execution_count": null,
   "metadata": {},
   "outputs": [],
   "source": [
    "{\n",
    "    \"Message\" : \"Discovery task < Name > has been created Successfully!\",\n",
    "    \"statusCode\": 790200,\n",
    "    \"statusDescription\": \"Success.\"\n",
    "}"
   ]
  }
 ],
 "metadata": {
  "kernelspec": {
   "display_name": "Python 3",
   "language": "python",
   "name": "python3"
  },
  "language_info": {
   "codemirror_mode": {
    "name": "ipython",
    "version": 3
   },
   "file_extension": ".py",
   "mimetype": "text/x-python",
   "name": "python",
   "nbconvert_exporter": "python",
   "pygments_lexer": "ipython3",
   "version": "3.7.1"
  }
 },
 "nbformat": 4,
 "nbformat_minor": 2
}
