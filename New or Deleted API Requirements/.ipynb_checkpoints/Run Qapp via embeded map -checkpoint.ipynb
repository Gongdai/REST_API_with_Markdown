{
 "cells": [
  {
   "cell_type": "markdown",
   "metadata": {},
   "source": [
    "# Trigger Qapp API"
   ]
  },
  {
   "cell_type": "markdown",
   "metadata": {},
   "source": [
    "## ***POST*** /...\n",
    "\n",
    "***Use Case:***<br>\n",
    "1) Base on embeded map.\n",
    "As Mr.Liao said, our customers want to run the Qapp via Embeded map, and the embeded map needs to refresh data every two minutes. When the Embeded map been opened, a dynamic map is created, then we should let the customer can choose the runbook to run base in this map immidiately. And the runbook also need to be refreshed follow the map refresh(every two minutes). When the customer close the embeded map, the runbook also stop running. \n",
    "\n",
    "2) Base on device(Qapp Schedualer) \n",
    "In this use case, except to tigger Qapp running we have to consider the scheduale feature of this API. A json expect input body is showing below. In our GUI system, the Qapp schedule feature is can be consider about Site, Device Group, Path and Device. Fortunatly, our Trigger diagnosis API is already include the Site and Path map to trigger Qapp, so for this API i think we can just consider the Device Group and Device to tigger Qapp.   \n",
    "\n",
    "***Work Flow:***<br>\n",
    "Open Embeded map (trigger runQapp API) -> map refresh with constant period(Qapp follow the map to collect data) -> close embeded map(Qapp stoped meanwhile)\n",
    "\n",
    "Question：<br>\n",
    "  1) How to put in the required varibles into Qapp, for different Qapp needs different inputs?<br>\n",
    "  2) Why we don't use trigger API during embeded map? <br>\n",
    "  3) If customer want to schedule a Qapp to run based on devices can we just provide a schedule API and simpified the trigger diagnosis API for Qapp settings(currently during trigger API, we already provide the festure for runbook node settings which I think should be same with Qapp settings). Then if customers want to run the Qapp schedually via API, if customer want to run Qapp base on Device Group or Device, <br>\n",
    "  \n",
    "  >>customer can calling Schedule API -> run Qapp API. \n",
    "  \n",
    "If customer want to run Qapp base on Map then they can \n",
    "  \n",
    "  >>Calling schedule APi -> calling trigger diagnosis API to get the expect return.\n",
    "  "
   ]
  },
  {
   "cell_type": "code",
   "execution_count": null,
   "metadata": {},
   "outputs": [],
   "source": [
    "# input for schedule device Qapp running.\n",
    "\n",
    "{\n",
    "    \"mapTaskID\" : True/False,\n",
    "    \"deviceNameorIp\" : \"\"/[], # or set as a device list.\n",
    "    \"deviceGroupName\" : \"\",\n",
    "    \"QappPath\" : \"\",\n",
    "    \"timeZone\" : \"UTC+hh:mm\"\n",
    "    \"Scheduale\":{\n",
    "        \"frequency\" : integer, # 0: once, 1: continually, 2: daily, 3: weekly.\n",
    "        0 : {\n",
    "            \"executeAt\" : \"yyyy-mm-dd:hh-mm\"\n",
    "        },\n",
    "        1 : {\n",
    "            \"start\" : \"yyyy-mm-dd:hh-mm\",\n",
    "            \"end\" : \"yyyy-mm-dd:hh-mm\",\n",
    "            \"repeat\" : \"mm\"\n",
    "        },\n",
    "        2 : {\n",
    "            \"start\" : \"yyyy-mm-dd:hh-mm\",\n",
    "            \"end\" : \"yyyy-mm-dd:hh-mm\",\n",
    "            \"executeAt\" : \"hh-mm\"\n",
    "            \"repeat\" : {\n",
    "                \"onceADay\" : True/False,\n",
    "                \"minutes\" : intger,\n",
    "                \"duration\" : integer\n",
    "            }\n",
    "        },\n",
    "        3 : {\n",
    "            \"start\" : \"yyyy-mm-dd:hh-mm\",\n",
    "            \"end\" : \"yyyy-mm-dd:hh-mm\",\n",
    "            \"executeAt\" : \"d-hh-mm\"\n",
    "        }\n",
    "    }\n",
    "}"
   ]
  }
 ],
 "metadata": {
  "kernelspec": {
   "display_name": "Python 3",
   "language": "python",
   "name": "python3"
  },
  "language_info": {
   "codemirror_mode": {
    "name": "ipython",
    "version": 3
   },
   "file_extension": ".py",
   "mimetype": "text/x-python",
   "name": "python",
   "nbconvert_exporter": "python",
   "pygments_lexer": "ipython3",
   "version": "3.7.1"
  }
 },
 "nbformat": 4,
 "nbformat_minor": 2
}
