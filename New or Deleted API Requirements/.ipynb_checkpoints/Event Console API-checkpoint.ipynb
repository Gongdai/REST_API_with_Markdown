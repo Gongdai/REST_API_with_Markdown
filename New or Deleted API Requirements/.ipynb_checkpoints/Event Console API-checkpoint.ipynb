{
 "cells": [
  {
   "cell_type": "markdown",
   "metadata": {},
   "source": [
    "# Event Console API"
   ]
  },
  {
   "cell_type": "markdown",
   "metadata": {},
   "source": [
    "## ***GET***/ ...\n",
    "Call this API to get the device information table in event console.\n",
    "\n",
    "## Detail Information\n",
    "\n",
    "> **Title** : Get Event Console API<br>\n",
    "\n",
    "> **Version** : 03/20/2019.\n",
    "\n",
    "> **API Server URL** : http(s)://IP address of NetBrain Web API Server/...\n",
    "\n",
    "> **Authentication** : \n",
    "\n",
    "|**Type**|**In**|**Name**|\n",
    "|------|------|------|\n",
    "|<img width=100/>|<img width=100/>|<img width=500/>|\n",
    "|Bearer Authentication| Headers | Authentication token | \n",
    "\n",
    "## Query Parameters(****required***)\n",
    "\n",
    "|**Name**|**Type**|**Description**|\n",
    "|------|------|------|\n",
    "|eventType|list of integer| The collection region of events.<br>1: My Events<br>2: Shared Events<br>1: Global Events|\n",
    "|level|list of integer| The collection level of events.<br>1: Error<br>2:Warning|\n",
    "|timeRange| integer |The collection time region of events.<br>24: last 24 hours<br>48: last 48 hours<br>7: last 7 days|\n",
    "|startTime| date |customized events collection start time.|\n",
    "|endTime| date |customized events collection end time.|\n",
    "\n",
    "***Example:***"
   ]
  },
  {
   "cell_type": "code",
   "execution_count": null,
   "metadata": {},
   "outputs": [],
   "source": [
    "data = {\n",
    "    \"eventType\" : [1,2,3],\n",
    "    \"level\" : [1,2],\n",
    "    \"timeRange\": 24,\n",
    "    \"startTime\":\"\",\n",
    "    \"endTime\":\"\"\n",
    "}"
   ]
  },
  {
   "cell_type": "markdown",
   "metadata": {},
   "source": [
    "## Response\n",
    "\n",
    "|**Name**|**Type**|**Description**|\n",
    "|------|------|------|\n",
    "| device | string |device name or ip|\n",
    "| event | string |description of event |\n",
    "| firstTime |string| The first time of happend of this event|\n",
    "| lastTime |string| The last happend time of this event|\n",
    "| count | integer |...|\n",
    "|acknowleged| string | ...|\n",
    "|status|integer|...|\n",
    "|executedBy|string|...|\n",
    "|taskType|integer|...|\n",
    "|fromTask|string|...|\n"
   ]
  },
  {
   "cell_type": "code",
   "execution_count": null,
   "metadata": {},
   "outputs": [],
   "source": [
    " response = {\n",
    "     {\n",
    "         \"device\":\"\",\n",
    "         \"event\":\"\",\n",
    "         \"firstTime\":\"\",\n",
    "         \"lastTime\":\"\",\n",
    "         \"count\":\"\",\n",
    "         \"acknowleged\":\"\",\n",
    "         \"status\":\"\",\n",
    "         \"executedBy\":\"\",\n",
    "         \"taskType\":\"\",\n",
    "         \"fromTask\":\"\",\n",
    "     },\n",
    "     {\n",
    "         \"device\":\"\",\n",
    "         \"event\":\"\",\n",
    "         \"firstTime\":\"\",\n",
    "         \"lastTime\":\"\",\n",
    "         \"count\":\"\",\n",
    "         \"acknowleged\":\"\",\n",
    "         \"status\":\"\",\n",
    "         \"executedBy\":\"\",\n",
    "         \"taskType\":\"\",\n",
    "         \"fromTask\":\"\",\n",
    "     },\n",
    "     {\n",
    "         \"device\":\"\",\n",
    "         \"event\":\"\",\n",
    "         \"firstTime\":\"\",\n",
    "         \"lastTime\":\"\",\n",
    "         \"count\":\"\",\n",
    "         \"acknowleged\":\"\",\n",
    "         \"status\":\"\",\n",
    "         \"executedBy\":\"\",\n",
    "         \"taskType\":\"\",\n",
    "         \"fromTask\":\"\",\n",
    "     },\n",
    "     {\n",
    "         \"device\":\"\",\n",
    "         \"event\":\"\",\n",
    "         \"firstTime\":\"\",\n",
    "         \"lastTime\":\"\",\n",
    "         \"count\":\"\",\n",
    "         \"acknowleged\":\"\",\n",
    "         \"status\":\"\",\n",
    "         \"executedBy\":\"\",\n",
    "         \"taskType\":\"\",\n",
    "         \"fromTask\":\"\",\n",
    "     }\n",
    "     .\n",
    "     .\n",
    "     .\n",
    "     \n",
    " }"
   ]
  }
 ],
 "metadata": {
  "kernelspec": {
   "display_name": "Python 3",
   "language": "python",
   "name": "python3"
  },
  "language_info": {
   "codemirror_mode": {
    "name": "ipython",
    "version": 3
   },
   "file_extension": ".py",
   "mimetype": "text/x-python",
   "name": "python",
   "nbconvert_exporter": "python",
   "pygments_lexer": "ipython3",
   "version": "3.7.1"
  }
 },
 "nbformat": 4,
 "nbformat_minor": 2
}
