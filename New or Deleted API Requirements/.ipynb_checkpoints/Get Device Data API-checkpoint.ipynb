{
 "cells": [
  {
   "cell_type": "markdown",
   "metadata": {},
   "source": [
    "# Get Device Data API"
   ]
  },
  {
   "cell_type": "markdown",
   "metadata": {},
   "source": [
    "## ***GET*** /V1/CMDB/Devices/DeviceData/{?hostname}/{?dataType}\n",
    "Call this API to get the value for a specified attribute of a device.\n",
    "\n",
    "## Detail Information\n",
    "\n",
    "> **Title** : Get Device Data API<br>\n",
    "\n",
    "> **Version** : 01/28/2019.\n",
    "\n",
    "> **API Server URL** : http(s)://IP address of NetBrain Web API Server/ServicesAPI/API/V1/CMDB/Devices/DeviceData\n",
    "\n",
    "> **Authentication** : \n",
    "\n",
    "|**Type**|**In**|**Name**|\n",
    "|------|------|------|\n",
    "|<img width=100/>|<img width=100/>|<img width=500/>|\n",
    "|Bearer Authentication| Headers | Authentication token | \n",
    "\n",
    "## Request body(****required***)\n",
    "\n",
    ">No request body.\n",
    "\n",
    "## Query Parameters(****required***)\n",
    "\n",
    "|**Name**|**Type**|**Description**|\n",
    "|------|------|------|\n",
    "|<img width=100/>|<img width=100/>|<img width=500/>|\n",
    "|hostname* | string  | The hostname of the device.  |\n",
    "|dataType | null | The data type that you want to retrieve. The following data types are supported (not case-sensitive):<br>▪ ConfigurationFile<br>▪ RouteTable<br>▪ MACTable<br>▪ ARPTable<br>▪ NDPTable<br>▪ STPTable<br>▪ BGPAdvertised-routeTable<br>▪ NCTTable |\n",
    "|vrf | string  | The vrf name. This field is optional and only valid for route, arp or bgpadvertised-route table type. If not specified, it will return the global vrf content. |\n",
    "|peip | string  | The IP address of PE device. This field is optional and only valid when the data type is BGPAdvertised-routeTable.  |\n",
    "|nctName | string  | The name of the NCT table. This field is optional and only valid when the data type is NCTTable. |\n",
    "|subName | string  | The subname of NCT, such as \"Global\". This field is optional and only valid for NCTTable.  |\n",
    "\n",
    "## Headers\n",
    "\n",
    "> **Data Format Headers**\n",
    "\n",
    "|**Name**|**Type**|**Description**|\n",
    "|------|------|------|\n",
    "|<img width=100/>|<img width=100/>|<img width=500/>|\n",
    "| Content-Type | string  | support \"application/json\" |\n",
    "| Accept | string  | support \"application/json\" |\n",
    "\n",
    "> **Authorization Headers**\n",
    "\n",
    "|**Name**|**Type**|**Description**|\n",
    "|------|------|------|\n",
    "|<img width=100/>|<img width=100/>|<img width=500/>|\n",
    "| token | string  | Authentication token, get from login API. |\n",
    "\n",
    "## Response\n",
    "\n",
    "|**Name**|**Type**|**Description**|\n",
    "|------|------|------|\n",
    "|<img width=100/>|<img width=100/>|<img width=500/>|\n",
    "|content| string | Data content. |\n",
    "|retrievalTime| string | The time of users retrieved data. |\n",
    "|statusCode| integer | Code issued by NetBrain server indicating the execution result.  |\n",
    "|statusDescription| string | The explanation of the status code. |"
   ]
  },
  {
   "cell_type": "code",
   "execution_count": null,
   "metadata": {},
   "outputs": [],
   "source": []
  }
 ],
 "metadata": {
  "kernelspec": {
   "display_name": "Python 3",
   "language": "python",
   "name": "python3"
  },
  "language_info": {
   "codemirror_mode": {
    "name": "ipython",
    "version": 3
   },
   "file_extension": ".py",
   "mimetype": "text/x-python",
   "name": "python",
   "nbconvert_exporter": "python",
   "pygments_lexer": "ipython3",
   "version": "3.7.1"
  }
 },
 "nbformat": 4,
 "nbformat_minor": 2
}
